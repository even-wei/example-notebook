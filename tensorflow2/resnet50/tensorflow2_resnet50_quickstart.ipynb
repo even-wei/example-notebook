{
 "cells": [
  {
   "cell_type": "markdown",
   "id": "da36cd08",
   "metadata": {},
   "source": [
    "# TensorFlow 2 & Pre-trained Resnet-50"
   ]
  },
  {
   "cell_type": "markdown",
   "id": "7f21b069",
   "metadata": {},
   "source": [
    "## Welcome to PrimeHub!\n",
    "In this quickstart, we will show you how to use a pre-trained Resnet-50 for image classification."
   ]
  },
  {
   "cell_type": "markdown",
   "id": "090ac8d0",
   "metadata": {},
   "source": [
    "### Import libraries"
   ]
  },
  {
   "cell_type": "code",
   "execution_count": null,
   "id": "9791b2ef",
   "metadata": {},
   "outputs": [],
   "source": [
    "from PIL import Image\n",
    "import requests\n",
    "import numpy as np\n",
    "import tensorflow as tf\n",
    "import tensorflow_hub as hub\n",
    "import matplotlib.pyplot as plt"
   ]
  },
  {
   "cell_type": "markdown",
   "id": "88d2d583",
   "metadata": {},
   "source": [
    "### Load the Pre-trained Model and Labels"
   ]
  },
  {
   "cell_type": "code",
   "execution_count": null,
   "id": "6404c04b",
   "metadata": {},
   "outputs": [],
   "source": [
    "model = tf.keras.models.load_model('/home/models/resnet_v2_50')\n",
    "with open('/home/models/resnet_v2_50/ImageNetLabels.txt') as f:\n",
    "    labels = f.read().splitlines()"
   ]
  },
  {
   "cell_type": "markdown",
   "id": "a758926f",
   "metadata": {},
   "source": [
    "### Fetch a Random Image and Get the Classification Result"
   ]
  },
  {
   "cell_type": "code",
   "execution_count": null,
   "id": "9836fc66",
   "metadata": {},
   "outputs": [],
   "source": [
    "# Fetch image\n",
    "url = 'https://picsum.photos/224'\n",
    "img = Image.open(requests.get(url, stream=True).raw)\n",
    "plt.imshow(img)\n",
    "\n",
    "# Resize and Normalize image\n",
    "x = img.resize((224,224))\n",
    "x = np.asarray(x) / 255\n",
    "x = np.expand_dims(x, axis=0)\n",
    "\n",
    "# Inference and get label\n",
    "pred_id = np.argmax(model.predict(x))\n",
    "print('Inference Result:', labels[pred_id])"
   ]
  }
 ],
 "metadata": {
  "kernelspec": {
   "display_name": "Python 3 (ipykernel)",
   "language": "python",
   "name": "python3"
  },
  "language_info": {
   "codemirror_mode": {
    "name": "ipython",
    "version": 3
   },
   "file_extension": ".py",
   "mimetype": "text/x-python",
   "name": "python",
   "nbconvert_exporter": "python",
   "pygments_lexer": "ipython3",
   "version": "3.7.10"
  }
 },
 "nbformat": 4,
 "nbformat_minor": 5
}
